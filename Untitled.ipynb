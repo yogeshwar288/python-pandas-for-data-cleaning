{
 "cells": [
  {
   "cell_type": "code",
   "execution_count": 1,
   "id": "07e3d013",
   "metadata": {},
   "outputs": [],
   "source": [
    "import pandas as pd"
   ]
  },
  {
   "cell_type": "code",
   "execution_count": 28,
   "id": "2a34fcdd",
   "metadata": {},
   "outputs": [
    {
     "data": {
      "text/html": [
       "<div>\n",
       "<style scoped>\n",
       "    .dataframe tbody tr th:only-of-type {\n",
       "        vertical-align: middle;\n",
       "    }\n",
       "\n",
       "    .dataframe tbody tr th {\n",
       "        vertical-align: top;\n",
       "    }\n",
       "\n",
       "    .dataframe thead th {\n",
       "        text-align: right;\n",
       "    }\n",
       "</style>\n",
       "<table border=\"1\" class=\"dataframe\">\n",
       "  <thead>\n",
       "    <tr style=\"text-align: right;\">\n",
       "      <th></th>\n",
       "      <th>date</th>\n",
       "      <th>studen id</th>\n",
       "      <th>class</th>\n",
       "      <th>section</th>\n",
       "      <th>study hrs</th>\n",
       "      <th>percentage</th>\n",
       "    </tr>\n",
       "  </thead>\n",
       "  <tbody>\n",
       "    <tr>\n",
       "      <th>0</th>\n",
       "      <td>01-04-2021</td>\n",
       "      <td>1001.0</td>\n",
       "      <td>10</td>\n",
       "      <td>a</td>\n",
       "      <td>2.0</td>\n",
       "      <td>50.0</td>\n",
       "    </tr>\n",
       "    <tr>\n",
       "      <th>1</th>\n",
       "      <td>02-04-2021</td>\n",
       "      <td>1002.0</td>\n",
       "      <td>10</td>\n",
       "      <td>a</td>\n",
       "      <td>2.0</td>\n",
       "      <td>80.0</td>\n",
       "    </tr>\n",
       "    <tr>\n",
       "      <th>2</th>\n",
       "      <td>03-04-2021</td>\n",
       "      <td>1003.0</td>\n",
       "      <td>10</td>\n",
       "      <td>a</td>\n",
       "      <td>3.0</td>\n",
       "      <td>60.0</td>\n",
       "    </tr>\n",
       "    <tr>\n",
       "      <th>3</th>\n",
       "      <td>04-04-2021</td>\n",
       "      <td>1004.0</td>\n",
       "      <td>10</td>\n",
       "      <td>a</td>\n",
       "      <td>0.0</td>\n",
       "      <td>60.0</td>\n",
       "    </tr>\n",
       "    <tr>\n",
       "      <th>4</th>\n",
       "      <td>05-04-2021</td>\n",
       "      <td>1004.0</td>\n",
       "      <td>11</td>\n",
       "      <td>a</td>\n",
       "      <td>4.0</td>\n",
       "      <td>60.0</td>\n",
       "    </tr>\n",
       "    <tr>\n",
       "      <th>5</th>\n",
       "      <td>06-04-2021</td>\n",
       "      <td>1006.0</td>\n",
       "      <td>11</td>\n",
       "      <td>d</td>\n",
       "      <td>10.0</td>\n",
       "      <td>60.0</td>\n",
       "    </tr>\n",
       "    <tr>\n",
       "      <th>6</th>\n",
       "      <td>07-04-2021</td>\n",
       "      <td>1007.0</td>\n",
       "      <td>11</td>\n",
       "      <td>b</td>\n",
       "      <td>4.0</td>\n",
       "      <td>80.0</td>\n",
       "    </tr>\n",
       "    <tr>\n",
       "      <th>7</th>\n",
       "      <td>08-04-2021</td>\n",
       "      <td>1007.0</td>\n",
       "      <td>11</td>\n",
       "      <td>s</td>\n",
       "      <td>4.0</td>\n",
       "      <td>80.0</td>\n",
       "    </tr>\n",
       "    <tr>\n",
       "      <th>8</th>\n",
       "      <td>09-04-2021</td>\n",
       "      <td>1007.0</td>\n",
       "      <td>12</td>\n",
       "      <td>a</td>\n",
       "      <td>4.0</td>\n",
       "      <td>90.0</td>\n",
       "    </tr>\n",
       "    <tr>\n",
       "      <th>9</th>\n",
       "      <td>10-04-2021</td>\n",
       "      <td>1010.0</td>\n",
       "      <td>12</td>\n",
       "      <td>c</td>\n",
       "      <td>5.0</td>\n",
       "      <td>90.0</td>\n",
       "    </tr>\n",
       "    <tr>\n",
       "      <th>10</th>\n",
       "      <td>11-04-2021</td>\n",
       "      <td>1011.0</td>\n",
       "      <td>12</td>\n",
       "      <td>a</td>\n",
       "      <td>5.0</td>\n",
       "      <td>90.0</td>\n",
       "    </tr>\n",
       "    <tr>\n",
       "      <th>11</th>\n",
       "      <td>12-04-2021</td>\n",
       "      <td>1012.0</td>\n",
       "      <td>12</td>\n",
       "      <td>b</td>\n",
       "      <td>6.0</td>\n",
       "      <td>85.0</td>\n",
       "    </tr>\n",
       "  </tbody>\n",
       "</table>\n",
       "</div>"
      ],
      "text/plain": [
       "          date  studen id  class section  study hrs  percentage\n",
       "0   01-04-2021     1001.0     10       a        2.0        50.0\n",
       "1   02-04-2021     1002.0     10       a        2.0        80.0\n",
       "2   03-04-2021     1003.0     10       a        3.0        60.0\n",
       "3   04-04-2021     1004.0     10       a        0.0        60.0\n",
       "4   05-04-2021     1004.0     11       a        4.0        60.0\n",
       "5   06-04-2021     1006.0     11       d       10.0        60.0\n",
       "6   07-04-2021     1007.0     11       b        4.0        80.0\n",
       "7   08-04-2021     1007.0     11       s        4.0        80.0\n",
       "8   09-04-2021     1007.0     12       a        4.0        90.0\n",
       "9   10-04-2021     1010.0     12       c        5.0        90.0\n",
       "10  11-04-2021     1011.0     12       a        5.0        90.0\n",
       "11  12-04-2021     1012.0     12       b        6.0        85.0"
      ]
     },
     "execution_count": 28,
     "metadata": {},
     "output_type": "execute_result"
    }
   ],
   "source": [
    "df=pd.read_csv('E:\\\\csv files\\\\student.csv')\n",
    "df.fillna(method='ffill',inplace=True)\n",
    "df"
   ]
  },
  {
   "cell_type": "code",
   "execution_count": 30,
   "id": "c44c5e36",
   "metadata": {},
   "outputs": [],
   "source": [
    "gr1=df.groupby(by='section')"
   ]
  },
  {
   "cell_type": "code",
   "execution_count": 31,
   "id": "c0a8f2d5",
   "metadata": {},
   "outputs": [
    {
     "data": {
      "text/plain": [
       "{'a': [0, 1, 2, 3, 4, 8, 10], 'b': [6, 11], 'c': [9], 'd': [5], 's': [7]}"
      ]
     },
     "execution_count": 31,
     "metadata": {},
     "output_type": "execute_result"
    }
   ],
   "source": [
    "gr1.groups"
   ]
  },
  {
   "cell_type": "code",
   "execution_count": 32,
   "id": "33aa4fd4",
   "metadata": {},
   "outputs": [
    {
     "data": {
      "text/plain": [
       "{('a', 10): [0, 1, 2, 3], ('a', 11): [4], ('a', 12): [8, 10], ('b', 11): [6], ('b', 12): [11], ('c', 12): [9], ('d', 11): [5], ('s', 11): [7]}"
      ]
     },
     "execution_count": 32,
     "metadata": {},
     "output_type": "execute_result"
    }
   ],
   "source": [
    "gr1=df.groupby(['section','class']).groups\n",
    "gr1"
   ]
  },
  {
   "cell_type": "code",
   "execution_count": 33,
   "id": "83568552",
   "metadata": {},
   "outputs": [
    {
     "name": "stdout",
     "output_type": "stream",
     "text": [
      "a\n",
      "10\n",
      "a\n",
      "11\n",
      "a\n",
      "12\n",
      "b\n",
      "11\n",
      "b\n",
      "12\n",
      "c\n",
      "12\n",
      "d\n",
      "11\n",
      "s\n",
      "11\n"
     ]
    }
   ],
   "source": [
    "for section, df1 in gr1:\n",
    "    print(section)\n",
    "    print(df1)"
   ]
  },
  {
   "cell_type": "code",
   "execution_count": 34,
   "id": "186c8c16",
   "metadata": {},
   "outputs": [
    {
     "data": {
      "text/plain": [
       "[('a', 10),\n",
       " ('a', 11),\n",
       " ('a', 12),\n",
       " ('b', 11),\n",
       " ('b', 12),\n",
       " ('c', 12),\n",
       " ('d', 11),\n",
       " ('s', 11)]"
      ]
     },
     "execution_count": 34,
     "metadata": {},
     "output_type": "execute_result"
    }
   ],
   "source": [
    "list(gr1)"
   ]
  },
  {
   "cell_type": "code",
   "execution_count": 35,
   "id": "ec90db89",
   "metadata": {},
   "outputs": [
    {
     "data": {
      "text/plain": [
       "{'a': 12, 'b': 12, 'c': 12, 'd': 11, 's': 11}"
      ]
     },
     "execution_count": 35,
     "metadata": {},
     "output_type": "execute_result"
    }
   ],
   "source": [
    "dict(list(gr1))"
   ]
  },
  {
   "cell_type": "code",
   "execution_count": 36,
   "id": "eaee9d16",
   "metadata": {},
   "outputs": [
    {
     "data": {
      "text/html": [
       "<div>\n",
       "<style scoped>\n",
       "    .dataframe tbody tr th:only-of-type {\n",
       "        vertical-align: middle;\n",
       "    }\n",
       "\n",
       "    .dataframe tbody tr th {\n",
       "        vertical-align: top;\n",
       "    }\n",
       "\n",
       "    .dataframe thead th {\n",
       "        text-align: right;\n",
       "    }\n",
       "</style>\n",
       "<table border=\"1\" class=\"dataframe\">\n",
       "  <thead>\n",
       "    <tr style=\"text-align: right;\">\n",
       "      <th></th>\n",
       "      <th>date</th>\n",
       "      <th>studen id</th>\n",
       "      <th>class</th>\n",
       "      <th>section</th>\n",
       "      <th>study hrs</th>\n",
       "      <th>percentage</th>\n",
       "    </tr>\n",
       "  </thead>\n",
       "  <tbody>\n",
       "    <tr>\n",
       "      <th>0</th>\n",
       "      <td>01-04-2021</td>\n",
       "      <td>1001.0</td>\n",
       "      <td>10</td>\n",
       "      <td>a</td>\n",
       "      <td>2.0</td>\n",
       "      <td>50.0</td>\n",
       "    </tr>\n",
       "    <tr>\n",
       "      <th>1</th>\n",
       "      <td>02-04-2021</td>\n",
       "      <td>1002.0</td>\n",
       "      <td>10</td>\n",
       "      <td>a</td>\n",
       "      <td>2.0</td>\n",
       "      <td>80.0</td>\n",
       "    </tr>\n",
       "    <tr>\n",
       "      <th>2</th>\n",
       "      <td>03-04-2021</td>\n",
       "      <td>1003.0</td>\n",
       "      <td>10</td>\n",
       "      <td>a</td>\n",
       "      <td>3.0</td>\n",
       "      <td>60.0</td>\n",
       "    </tr>\n",
       "    <tr>\n",
       "      <th>3</th>\n",
       "      <td>04-04-2021</td>\n",
       "      <td>1004.0</td>\n",
       "      <td>10</td>\n",
       "      <td>a</td>\n",
       "      <td>0.0</td>\n",
       "      <td>60.0</td>\n",
       "    </tr>\n",
       "    <tr>\n",
       "      <th>4</th>\n",
       "      <td>05-04-2021</td>\n",
       "      <td>1004.0</td>\n",
       "      <td>11</td>\n",
       "      <td>a</td>\n",
       "      <td>4.0</td>\n",
       "      <td>60.0</td>\n",
       "    </tr>\n",
       "    <tr>\n",
       "      <th>8</th>\n",
       "      <td>09-04-2021</td>\n",
       "      <td>1007.0</td>\n",
       "      <td>12</td>\n",
       "      <td>a</td>\n",
       "      <td>4.0</td>\n",
       "      <td>90.0</td>\n",
       "    </tr>\n",
       "    <tr>\n",
       "      <th>10</th>\n",
       "      <td>11-04-2021</td>\n",
       "      <td>1011.0</td>\n",
       "      <td>12</td>\n",
       "      <td>a</td>\n",
       "      <td>5.0</td>\n",
       "      <td>90.0</td>\n",
       "    </tr>\n",
       "  </tbody>\n",
       "</table>\n",
       "</div>"
      ],
      "text/plain": [
       "          date  studen id  class section  study hrs  percentage\n",
       "0   01-04-2021     1001.0     10       a        2.0        50.0\n",
       "1   02-04-2021     1002.0     10       a        2.0        80.0\n",
       "2   03-04-2021     1003.0     10       a        3.0        60.0\n",
       "3   04-04-2021     1004.0     10       a        0.0        60.0\n",
       "4   05-04-2021     1004.0     11       a        4.0        60.0\n",
       "8   09-04-2021     1007.0     12       a        4.0        90.0\n",
       "10  11-04-2021     1011.0     12       a        5.0        90.0"
      ]
     },
     "execution_count": 36,
     "metadata": {},
     "output_type": "execute_result"
    }
   ],
   "source": [
    "gr2=df.groupby('section').get_group('a')\n",
    "gr2"
   ]
  },
  {
   "cell_type": "code",
   "execution_count": 39,
   "id": "e839d7b9",
   "metadata": {},
   "outputs": [
    {
     "data": {
      "text/plain": [
       "date          01-04-202102-04-202103-04-202104-04-202105-04-...\n",
       "studen id                                                7032.0\n",
       "class                                                        75\n",
       "section                                                 aaaaaaa\n",
       "study hrs                                                  20.0\n",
       "percentage                                                490.0\n",
       "dtype: object"
      ]
     },
     "execution_count": 39,
     "metadata": {},
     "output_type": "execute_result"
    }
   ],
   "source": [
    "gr2.sum()"
   ]
  },
  {
   "cell_type": "code",
   "execution_count": 40,
   "id": "0db59da2",
   "metadata": {},
   "outputs": [
    {
     "data": {
      "text/plain": [
       "studen id     1004.571429\n",
       "class           10.714286\n",
       "study hrs        2.857143\n",
       "percentage      70.000000\n",
       "dtype: float64"
      ]
     },
     "execution_count": 40,
     "metadata": {},
     "output_type": "execute_result"
    }
   ],
   "source": [
    "gr2.mean()"
   ]
  },
  {
   "cell_type": "code",
   "execution_count": 41,
   "id": "b9647daf",
   "metadata": {},
   "outputs": [
    {
     "data": {
      "text/html": [
       "<div>\n",
       "<style scoped>\n",
       "    .dataframe tbody tr th:only-of-type {\n",
       "        vertical-align: middle;\n",
       "    }\n",
       "\n",
       "    .dataframe tbody tr th {\n",
       "        vertical-align: top;\n",
       "    }\n",
       "\n",
       "    .dataframe thead th {\n",
       "        text-align: right;\n",
       "    }\n",
       "</style>\n",
       "<table border=\"1\" class=\"dataframe\">\n",
       "  <thead>\n",
       "    <tr style=\"text-align: right;\">\n",
       "      <th></th>\n",
       "      <th>studen id</th>\n",
       "      <th>class</th>\n",
       "      <th>study hrs</th>\n",
       "      <th>percentage</th>\n",
       "    </tr>\n",
       "  </thead>\n",
       "  <tbody>\n",
       "    <tr>\n",
       "      <th>count</th>\n",
       "      <td>7.000000</td>\n",
       "      <td>7.000000</td>\n",
       "      <td>7.000000</td>\n",
       "      <td>7.000000</td>\n",
       "    </tr>\n",
       "    <tr>\n",
       "      <th>mean</th>\n",
       "      <td>1004.571429</td>\n",
       "      <td>10.714286</td>\n",
       "      <td>2.857143</td>\n",
       "      <td>70.000000</td>\n",
       "    </tr>\n",
       "    <tr>\n",
       "      <th>std</th>\n",
       "      <td>3.408672</td>\n",
       "      <td>0.951190</td>\n",
       "      <td>1.676163</td>\n",
       "      <td>16.329932</td>\n",
       "    </tr>\n",
       "    <tr>\n",
       "      <th>min</th>\n",
       "      <td>1001.000000</td>\n",
       "      <td>10.000000</td>\n",
       "      <td>0.000000</td>\n",
       "      <td>50.000000</td>\n",
       "    </tr>\n",
       "    <tr>\n",
       "      <th>25%</th>\n",
       "      <td>1002.500000</td>\n",
       "      <td>10.000000</td>\n",
       "      <td>2.000000</td>\n",
       "      <td>60.000000</td>\n",
       "    </tr>\n",
       "    <tr>\n",
       "      <th>50%</th>\n",
       "      <td>1004.000000</td>\n",
       "      <td>10.000000</td>\n",
       "      <td>3.000000</td>\n",
       "      <td>60.000000</td>\n",
       "    </tr>\n",
       "    <tr>\n",
       "      <th>75%</th>\n",
       "      <td>1005.500000</td>\n",
       "      <td>11.500000</td>\n",
       "      <td>4.000000</td>\n",
       "      <td>85.000000</td>\n",
       "    </tr>\n",
       "    <tr>\n",
       "      <th>max</th>\n",
       "      <td>1011.000000</td>\n",
       "      <td>12.000000</td>\n",
       "      <td>5.000000</td>\n",
       "      <td>90.000000</td>\n",
       "    </tr>\n",
       "  </tbody>\n",
       "</table>\n",
       "</div>"
      ],
      "text/plain": [
       "         studen id      class  study hrs  percentage\n",
       "count     7.000000   7.000000   7.000000    7.000000\n",
       "mean   1004.571429  10.714286   2.857143   70.000000\n",
       "std       3.408672   0.951190   1.676163   16.329932\n",
       "min    1001.000000  10.000000   0.000000   50.000000\n",
       "25%    1002.500000  10.000000   2.000000   60.000000\n",
       "50%    1004.000000  10.000000   3.000000   60.000000\n",
       "75%    1005.500000  11.500000   4.000000   85.000000\n",
       "max    1011.000000  12.000000   5.000000   90.000000"
      ]
     },
     "execution_count": 41,
     "metadata": {},
     "output_type": "execute_result"
    }
   ],
   "source": [
    "gr2.describe()"
   ]
  },
  {
   "cell_type": "code",
   "execution_count": 42,
   "id": "602f1ed8",
   "metadata": {},
   "outputs": [
    {
     "data": {
      "text/html": [
       "<div>\n",
       "<style scoped>\n",
       "    .dataframe tbody tr th:only-of-type {\n",
       "        vertical-align: middle;\n",
       "    }\n",
       "\n",
       "    .dataframe tbody tr th {\n",
       "        vertical-align: top;\n",
       "    }\n",
       "\n",
       "    .dataframe thead th {\n",
       "        text-align: right;\n",
       "    }\n",
       "</style>\n",
       "<table border=\"1\" class=\"dataframe\">\n",
       "  <thead>\n",
       "    <tr style=\"text-align: right;\">\n",
       "      <th></th>\n",
       "      <th>date</th>\n",
       "      <th>studen id</th>\n",
       "      <th>class</th>\n",
       "      <th>section</th>\n",
       "      <th>study hrs</th>\n",
       "      <th>percentage</th>\n",
       "    </tr>\n",
       "  </thead>\n",
       "  <tbody>\n",
       "    <tr>\n",
       "      <th>sum</th>\n",
       "      <td>01-04-202102-04-202103-04-202104-04-202105-04-...</td>\n",
       "      <td>7032.000000</td>\n",
       "      <td>75.000000</td>\n",
       "      <td>aaaaaaa</td>\n",
       "      <td>20.000000</td>\n",
       "      <td>490.0</td>\n",
       "    </tr>\n",
       "    <tr>\n",
       "      <th>max</th>\n",
       "      <td>11-04-2021</td>\n",
       "      <td>1011.000000</td>\n",
       "      <td>12.000000</td>\n",
       "      <td>a</td>\n",
       "      <td>5.000000</td>\n",
       "      <td>90.0</td>\n",
       "    </tr>\n",
       "    <tr>\n",
       "      <th>mean</th>\n",
       "      <td>NaN</td>\n",
       "      <td>1004.571429</td>\n",
       "      <td>10.714286</td>\n",
       "      <td>NaN</td>\n",
       "      <td>2.857143</td>\n",
       "      <td>70.0</td>\n",
       "    </tr>\n",
       "  </tbody>\n",
       "</table>\n",
       "</div>"
      ],
      "text/plain": [
       "                                                   date    studen id  \\\n",
       "sum   01-04-202102-04-202103-04-202104-04-202105-04-...  7032.000000   \n",
       "max                                          11-04-2021  1011.000000   \n",
       "mean                                                NaN  1004.571429   \n",
       "\n",
       "          class  section  study hrs  percentage  \n",
       "sum   75.000000  aaaaaaa  20.000000       490.0  \n",
       "max   12.000000        a   5.000000        90.0  \n",
       "mean  10.714286      NaN   2.857143        70.0  "
      ]
     },
     "execution_count": 42,
     "metadata": {},
     "output_type": "execute_result"
    }
   ],
   "source": [
    "gr2.agg(['sum','max','mean'])"
   ]
  },
  {
   "cell_type": "code",
   "execution_count": null,
   "id": "3f9e829f",
   "metadata": {},
   "outputs": [],
   "source": []
  }
 ],
 "metadata": {
  "kernelspec": {
   "display_name": "Python 3",
   "language": "python",
   "name": "python3"
  },
  "language_info": {
   "codemirror_mode": {
    "name": "ipython",
    "version": 3
   },
   "file_extension": ".py",
   "mimetype": "text/x-python",
   "name": "python",
   "nbconvert_exporter": "python",
   "pygments_lexer": "ipython3",
   "version": "3.8.8"
  }
 },
 "nbformat": 4,
 "nbformat_minor": 5
}
