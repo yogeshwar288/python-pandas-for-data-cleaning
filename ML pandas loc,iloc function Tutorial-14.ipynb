{
 "cells": [
  {
   "cell_type": "markdown",
   "metadata": {},
   "source": [
    "# Python pandas Tutorial- 14"
   ]
  },
  {
   "cell_type": "markdown",
   "metadata": {},
   "source": [
    "# pandas loc[]  ,iloc[]  Functions"
   ]
  },
  {
   "cell_type": "code",
   "execution_count": 2,
   "metadata": {},
   "outputs": [],
   "source": [
    "import pandas as pd"
   ]
  },
  {
   "cell_type": "code",
   "execution_count": 2,
   "metadata": {},
   "outputs": [
    {
     "data": {
      "text/html": [
       "<div>\n",
       "<style scoped>\n",
       "    .dataframe tbody tr th:only-of-type {\n",
       "        vertical-align: middle;\n",
       "    }\n",
       "\n",
       "    .dataframe tbody tr th {\n",
       "        vertical-align: top;\n",
       "    }\n",
       "\n",
       "    .dataframe thead th {\n",
       "        text-align: right;\n",
       "    }\n",
       "</style>\n",
       "<table border=\"1\" class=\"dataframe\">\n",
       "  <thead>\n",
       "    <tr style=\"text-align: right;\">\n",
       "      <th></th>\n",
       "      <th>Series reference</th>\n",
       "      <th>Period</th>\n",
       "      <th>Description</th>\n",
       "      <th>Revised</th>\n",
       "      <th>Initially published</th>\n",
       "    </tr>\n",
       "  </thead>\n",
       "  <tbody>\n",
       "    <tr>\n",
       "      <th>0</th>\n",
       "      <td>FPIQ.SEA31</td>\n",
       "      <td>2019.09</td>\n",
       "      <td>Farm expenses price index, Horticulture and fr...</td>\n",
       "      <td>1434</td>\n",
       "      <td>1453.0</td>\n",
       "    </tr>\n",
       "    <tr>\n",
       "      <th>1</th>\n",
       "      <td>FPIQ.SEA31</td>\n",
       "      <td>2019.12</td>\n",
       "      <td>Farm expenses price index, Horticulture and fr...</td>\n",
       "      <td>1453</td>\n",
       "      <td>1472.0</td>\n",
       "    </tr>\n",
       "    <tr>\n",
       "      <th>2</th>\n",
       "      <td>FPIQ.SEA31</td>\n",
       "      <td>2020.03</td>\n",
       "      <td>Farm expenses price index, Horticulture and fr...</td>\n",
       "      <td>1412</td>\n",
       "      <td>1431.0</td>\n",
       "    </tr>\n",
       "    <tr>\n",
       "      <th>3</th>\n",
       "      <td>FPIQ.SEB31</td>\n",
       "      <td>2019.09</td>\n",
       "      <td>Farm expenses price index, Sheep, beef, and gr...</td>\n",
       "      <td>1489</td>\n",
       "      <td>NaN</td>\n",
       "    </tr>\n",
       "    <tr>\n",
       "      <th>4</th>\n",
       "      <td>FPIQ.SEB31</td>\n",
       "      <td>2019.12</td>\n",
       "      <td>Farm expenses price index, Sheep, beef, and gr...</td>\n",
       "      <td>1507</td>\n",
       "      <td>1510.0</td>\n",
       "    </tr>\n",
       "    <tr>\n",
       "      <th>5</th>\n",
       "      <td>FPIQ.SEB31</td>\n",
       "      <td>2020.03</td>\n",
       "      <td>Farm expenses price index, Sheep, beef, and gr...</td>\n",
       "      <td>4500</td>\n",
       "      <td>1465.0</td>\n",
       "    </tr>\n",
       "    <tr>\n",
       "      <th>6</th>\n",
       "      <td>NaN</td>\n",
       "      <td>2019.09</td>\n",
       "      <td>Farm expenses price index, Sheep, beef, and gr...</td>\n",
       "      <td>1193</td>\n",
       "      <td>1194.0</td>\n",
       "    </tr>\n",
       "    <tr>\n",
       "      <th>7</th>\n",
       "      <td>FPIQ.SEB39</td>\n",
       "      <td>2019.12</td>\n",
       "      <td>Farm expenses price index, Sheep, beef, and gr...</td>\n",
       "      <td>1199</td>\n",
       "      <td>1200.0</td>\n",
       "    </tr>\n",
       "    <tr>\n",
       "      <th>8</th>\n",
       "      <td>FPIQ.SEB39</td>\n",
       "      <td>2020.03</td>\n",
       "      <td>Farm expenses price index, Sheep, beef, and gr...</td>\n",
       "      <td>1187</td>\n",
       "      <td>1188.0</td>\n",
       "    </tr>\n",
       "    <tr>\n",
       "      <th>9</th>\n",
       "      <td>FPIQ.SEB99</td>\n",
       "      <td>2019.12</td>\n",
       "      <td>Farm expenses price index, Sheep, beef, and gr...</td>\n",
       "      <td>1159</td>\n",
       "      <td>NaN</td>\n",
       "    </tr>\n",
       "  </tbody>\n",
       "</table>\n",
       "</div>"
      ],
      "text/plain": [
       "  Series reference   Period  \\\n",
       "0       FPIQ.SEA31  2019.09   \n",
       "1       FPIQ.SEA31  2019.12   \n",
       "2       FPIQ.SEA31  2020.03   \n",
       "3       FPIQ.SEB31  2019.09   \n",
       "4       FPIQ.SEB31  2019.12   \n",
       "5       FPIQ.SEB31  2020.03   \n",
       "6              NaN  2019.09   \n",
       "7       FPIQ.SEB39  2019.12   \n",
       "8       FPIQ.SEB39  2020.03   \n",
       "9       FPIQ.SEB99  2019.12   \n",
       "\n",
       "                                         Description  Revised  \\\n",
       "0  Farm expenses price index, Horticulture and fr...     1434   \n",
       "1  Farm expenses price index, Horticulture and fr...     1453   \n",
       "2  Farm expenses price index, Horticulture and fr...     1412   \n",
       "3  Farm expenses price index, Sheep, beef, and gr...     1489   \n",
       "4  Farm expenses price index, Sheep, beef, and gr...     1507   \n",
       "5  Farm expenses price index, Sheep, beef, and gr...     4500   \n",
       "6  Farm expenses price index, Sheep, beef, and gr...     1193   \n",
       "7  Farm expenses price index, Sheep, beef, and gr...     1199   \n",
       "8  Farm expenses price index, Sheep, beef, and gr...     1187   \n",
       "9  Farm expenses price index, Sheep, beef, and gr...     1159   \n",
       "\n",
       "   Initially published  \n",
       "0               1453.0  \n",
       "1               1472.0  \n",
       "2               1431.0  \n",
       "3                  NaN  \n",
       "4               1510.0  \n",
       "5               1465.0  \n",
       "6               1194.0  \n",
       "7               1200.0  \n",
       "8               1188.0  \n",
       "9                  NaN  "
      ]
     },
     "execution_count": 2,
     "metadata": {},
     "output_type": "execute_result"
    }
   ],
   "source": [
    "df=pd.read_csv('G:\\\\csv\\\\business-price-indexes-june-2020-missing value file.csv')\n",
    "df"
   ]
  },
  {
   "cell_type": "code",
   "execution_count": 5,
   "metadata": {
    "scrolled": true
   },
   "outputs": [
    {
     "data": {
      "text/html": [
       "<div>\n",
       "<style scoped>\n",
       "    .dataframe tbody tr th:only-of-type {\n",
       "        vertical-align: middle;\n",
       "    }\n",
       "\n",
       "    .dataframe tbody tr th {\n",
       "        vertical-align: top;\n",
       "    }\n",
       "\n",
       "    .dataframe thead th {\n",
       "        text-align: right;\n",
       "    }\n",
       "</style>\n",
       "<table border=\"1\" class=\"dataframe\">\n",
       "  <thead>\n",
       "    <tr style=\"text-align: right;\">\n",
       "      <th></th>\n",
       "      <th>Series reference</th>\n",
       "      <th>Period</th>\n",
       "      <th>Description</th>\n",
       "      <th>Revised</th>\n",
       "      <th>Initially published</th>\n",
       "    </tr>\n",
       "  </thead>\n",
       "  <tbody>\n",
       "    <tr>\n",
       "      <th>0</th>\n",
       "      <td>FPIQ.SEA31</td>\n",
       "      <td>9/1/2019</td>\n",
       "      <td>Farm expenses price index, Horticulture and fr...</td>\n",
       "      <td>1434.0</td>\n",
       "      <td>1453.0</td>\n",
       "    </tr>\n",
       "    <tr>\n",
       "      <th>1</th>\n",
       "      <td>FPIQ.SEA31</td>\n",
       "      <td>10/2/2020</td>\n",
       "      <td>Farm expenses price index, Horticulture and fr...</td>\n",
       "      <td>1453.0</td>\n",
       "      <td>1472.0</td>\n",
       "    </tr>\n",
       "    <tr>\n",
       "      <th>2</th>\n",
       "      <td>FPIQ.SEA31</td>\n",
       "      <td>11/3/2020</td>\n",
       "      <td>Farm expenses price index, Horticulture and fr...</td>\n",
       "      <td>1412.0</td>\n",
       "      <td>1431.0</td>\n",
       "    </tr>\n",
       "    <tr>\n",
       "      <th>3</th>\n",
       "      <td>FPIQ.SEB31</td>\n",
       "      <td>12/4/2020</td>\n",
       "      <td>Farm expenses price index, Sheep, beef, and gr...</td>\n",
       "      <td>1489.0</td>\n",
       "      <td>1492.0</td>\n",
       "    </tr>\n",
       "    <tr>\n",
       "      <th>4</th>\n",
       "      <td>FPIQ.SEB31</td>\n",
       "      <td>13/5/2020</td>\n",
       "      <td>Farm expenses price index, Sheep, beef, and gr...</td>\n",
       "      <td>1507.0</td>\n",
       "      <td>1510.0</td>\n",
       "    </tr>\n",
       "    <tr>\n",
       "      <th>5</th>\n",
       "      <td>FPIQ.SEB31</td>\n",
       "      <td>14/6/2020</td>\n",
       "      <td>Farm expenses price index, Sheep, beef, and gr...</td>\n",
       "      <td>1507.0</td>\n",
       "      <td>1465.0</td>\n",
       "    </tr>\n",
       "    <tr>\n",
       "      <th>6</th>\n",
       "      <td>FPIQ.SEB39</td>\n",
       "      <td>15/7/2020</td>\n",
       "      <td>Farm expenses price index, Sheep, beef, and gr...</td>\n",
       "      <td>1193.0</td>\n",
       "      <td>1194.0</td>\n",
       "    </tr>\n",
       "    <tr>\n",
       "      <th>7</th>\n",
       "      <td>FPIQ.SEB39</td>\n",
       "      <td>12/8/2020</td>\n",
       "      <td>Farm expenses price index, Sheep, beef, and gr...</td>\n",
       "      <td>1199.0</td>\n",
       "      <td>1200.0</td>\n",
       "    </tr>\n",
       "    <tr>\n",
       "      <th>8</th>\n",
       "      <td>FPIQ.SEB39</td>\n",
       "      <td>12/9/2020</td>\n",
       "      <td>Farm expenses price index, Sheep, beef, and gr...</td>\n",
       "      <td>1187.0</td>\n",
       "      <td>1200.0</td>\n",
       "    </tr>\n",
       "  </tbody>\n",
       "</table>\n",
       "</div>"
      ],
      "text/plain": [
       "  Series reference     Period  \\\n",
       "0       FPIQ.SEA31   9/1/2019   \n",
       "1       FPIQ.SEA31  10/2/2020   \n",
       "2       FPIQ.SEA31  11/3/2020   \n",
       "3       FPIQ.SEB31  12/4/2020   \n",
       "4       FPIQ.SEB31  13/5/2020   \n",
       "5       FPIQ.SEB31  14/6/2020   \n",
       "6       FPIQ.SEB39  15/7/2020   \n",
       "7       FPIQ.SEB39  12/8/2020   \n",
       "8       FPIQ.SEB39  12/9/2020   \n",
       "\n",
       "                                         Description  Revised  \\\n",
       "0  Farm expenses price index, Horticulture and fr...   1434.0   \n",
       "1  Farm expenses price index, Horticulture and fr...   1453.0   \n",
       "2  Farm expenses price index, Horticulture and fr...   1412.0   \n",
       "3  Farm expenses price index, Sheep, beef, and gr...   1489.0   \n",
       "4  Farm expenses price index, Sheep, beef, and gr...   1507.0   \n",
       "5  Farm expenses price index, Sheep, beef, and gr...   1507.0   \n",
       "6  Farm expenses price index, Sheep, beef, and gr...   1193.0   \n",
       "7  Farm expenses price index, Sheep, beef, and gr...   1199.0   \n",
       "8  Farm expenses price index, Sheep, beef, and gr...   1187.0   \n",
       "\n",
       "   Initially published  \n",
       "0               1453.0  \n",
       "1               1472.0  \n",
       "2               1431.0  \n",
       "3               1492.0  \n",
       "4               1510.0  \n",
       "5               1465.0  \n",
       "6               1194.0  \n",
       "7               1200.0  \n",
       "8               1200.0  "
      ]
     },
     "execution_count": 5,
     "metadata": {},
     "output_type": "execute_result"
    }
   ],
   "source": [
    "df1=pd.read_csv('E:\\csv files\\ppppppppppppppppp.csv')\n",
    "df1.fillna(method='ffill')"
   ]
  },
  {
   "cell_type": "code",
   "execution_count": 6,
   "metadata": {
    "scrolled": true
   },
   "outputs": [
    {
     "data": {
      "text/plain": [
       "Series reference                                              FPIQ.SEA31\n",
       "Period                                                          9/1/2019\n",
       "Description            Farm expenses price index, Horticulture and fr...\n",
       "Revised                                                           1434.0\n",
       "Initially published                                               1453.0\n",
       "Name: 0, dtype: object"
      ]
     },
     "execution_count": 6,
     "metadata": {},
     "output_type": "execute_result"
    }
   ],
   "source": [
    "df1.loc[0]"
   ]
  },
  {
   "cell_type": "code",
   "execution_count": 8,
   "metadata": {},
   "outputs": [
    {
     "data": {
      "text/html": [
       "<div>\n",
       "<style scoped>\n",
       "    .dataframe tbody tr th:only-of-type {\n",
       "        vertical-align: middle;\n",
       "    }\n",
       "\n",
       "    .dataframe tbody tr th {\n",
       "        vertical-align: top;\n",
       "    }\n",
       "\n",
       "    .dataframe thead th {\n",
       "        text-align: right;\n",
       "    }\n",
       "</style>\n",
       "<table border=\"1\" class=\"dataframe\">\n",
       "  <thead>\n",
       "    <tr style=\"text-align: right;\">\n",
       "      <th></th>\n",
       "      <th>Series reference</th>\n",
       "      <th>Period</th>\n",
       "      <th>Description</th>\n",
       "      <th>Revised</th>\n",
       "      <th>Initially published</th>\n",
       "    </tr>\n",
       "  </thead>\n",
       "  <tbody>\n",
       "    <tr>\n",
       "      <th>1</th>\n",
       "      <td>FPIQ.SEA31</td>\n",
       "      <td>10/2/2020</td>\n",
       "      <td>Farm expenses price index, Horticulture and fr...</td>\n",
       "      <td>1453.0</td>\n",
       "      <td>1472.0</td>\n",
       "    </tr>\n",
       "    <tr>\n",
       "      <th>5</th>\n",
       "      <td>NaN</td>\n",
       "      <td>14/6/2020</td>\n",
       "      <td>Farm expenses price index, Sheep, beef, and gr...</td>\n",
       "      <td>NaN</td>\n",
       "      <td>1465.0</td>\n",
       "    </tr>\n",
       "  </tbody>\n",
       "</table>\n",
       "</div>"
      ],
      "text/plain": [
       "  Series reference     Period  \\\n",
       "1       FPIQ.SEA31  10/2/2020   \n",
       "5              NaN  14/6/2020   \n",
       "\n",
       "                                         Description  Revised  \\\n",
       "1  Farm expenses price index, Horticulture and fr...   1453.0   \n",
       "5  Farm expenses price index, Sheep, beef, and gr...      NaN   \n",
       "\n",
       "   Initially published  \n",
       "1               1472.0  \n",
       "5               1465.0  "
      ]
     },
     "execution_count": 8,
     "metadata": {},
     "output_type": "execute_result"
    }
   ],
   "source": [
    "df1.loc[[1,5]]"
   ]
  },
  {
   "cell_type": "code",
   "execution_count": 3,
   "metadata": {},
   "outputs": [
    {
     "data": {
      "text/plain": [
       "Series reference                                              FPIQ.SEA31\n",
       "Period                                                           2019.09\n",
       "Description            Farm expenses price index, Horticulture and fr...\n",
       "Revised                                                             1434\n",
       "Initially published                                                 1453\n",
       "Name: 0, dtype: object"
      ]
     },
     "execution_count": 3,
     "metadata": {},
     "output_type": "execute_result"
    }
   ],
   "source": [
    "df.loc[0]"
   ]
  },
  {
   "cell_type": "code",
   "execution_count": 4,
   "metadata": {},
   "outputs": [
    {
     "data": {
      "text/plain": [
       "Series reference                                              FPIQ.SEB31\n",
       "Period                                                           2020.03\n",
       "Description            Farm expenses price index, Sheep, beef, and gr...\n",
       "Revised                                                             4500\n",
       "Initially published                                                 1465\n",
       "Name: 5, dtype: object"
      ]
     },
     "execution_count": 4,
     "metadata": {},
     "output_type": "execute_result"
    }
   ],
   "source": [
    "df.loc[5]"
   ]
  },
  {
   "cell_type": "code",
   "execution_count": 5,
   "metadata": {},
   "outputs": [
    {
     "data": {
      "text/html": [
       "<div>\n",
       "<style scoped>\n",
       "    .dataframe tbody tr th:only-of-type {\n",
       "        vertical-align: middle;\n",
       "    }\n",
       "\n",
       "    .dataframe tbody tr th {\n",
       "        vertical-align: top;\n",
       "    }\n",
       "\n",
       "    .dataframe thead th {\n",
       "        text-align: right;\n",
       "    }\n",
       "</style>\n",
       "<table border=\"1\" class=\"dataframe\">\n",
       "  <thead>\n",
       "    <tr style=\"text-align: right;\">\n",
       "      <th></th>\n",
       "      <th>Series reference</th>\n",
       "      <th>Period</th>\n",
       "      <th>Description</th>\n",
       "      <th>Revised</th>\n",
       "      <th>Initially published</th>\n",
       "    </tr>\n",
       "  </thead>\n",
       "  <tbody>\n",
       "    <tr>\n",
       "      <th>0</th>\n",
       "      <td>FPIQ.SEA31</td>\n",
       "      <td>2019.09</td>\n",
       "      <td>Farm expenses price index, Horticulture and fr...</td>\n",
       "      <td>1434</td>\n",
       "      <td>1453.0</td>\n",
       "    </tr>\n",
       "    <tr>\n",
       "      <th>1</th>\n",
       "      <td>FPIQ.SEA31</td>\n",
       "      <td>2019.12</td>\n",
       "      <td>Farm expenses price index, Horticulture and fr...</td>\n",
       "      <td>1453</td>\n",
       "      <td>1472.0</td>\n",
       "    </tr>\n",
       "  </tbody>\n",
       "</table>\n",
       "</div>"
      ],
      "text/plain": [
       "  Series reference   Period  \\\n",
       "0       FPIQ.SEA31  2019.09   \n",
       "1       FPIQ.SEA31  2019.12   \n",
       "\n",
       "                                         Description  Revised  \\\n",
       "0  Farm expenses price index, Horticulture and fr...     1434   \n",
       "1  Farm expenses price index, Horticulture and fr...     1453   \n",
       "\n",
       "   Initially published  \n",
       "0               1453.0  \n",
       "1               1472.0  "
      ]
     },
     "execution_count": 5,
     "metadata": {},
     "output_type": "execute_result"
    }
   ],
   "source": [
    "df.loc[[0,1]]"
   ]
  },
  {
   "cell_type": "code",
   "execution_count": 6,
   "metadata": {},
   "outputs": [
    {
     "data": {
      "text/html": [
       "<div>\n",
       "<style scoped>\n",
       "    .dataframe tbody tr th:only-of-type {\n",
       "        vertical-align: middle;\n",
       "    }\n",
       "\n",
       "    .dataframe tbody tr th {\n",
       "        vertical-align: top;\n",
       "    }\n",
       "\n",
       "    .dataframe thead th {\n",
       "        text-align: right;\n",
       "    }\n",
       "</style>\n",
       "<table border=\"1\" class=\"dataframe\">\n",
       "  <thead>\n",
       "    <tr style=\"text-align: right;\">\n",
       "      <th></th>\n",
       "      <th>Series reference</th>\n",
       "      <th>Period</th>\n",
       "      <th>Description</th>\n",
       "      <th>Revised</th>\n",
       "      <th>Initially published</th>\n",
       "    </tr>\n",
       "  </thead>\n",
       "  <tbody>\n",
       "    <tr>\n",
       "      <th>4</th>\n",
       "      <td>FPIQ.SEB31</td>\n",
       "      <td>2019.12</td>\n",
       "      <td>Farm expenses price index, Sheep, beef, and gr...</td>\n",
       "      <td>1507</td>\n",
       "      <td>1510.0</td>\n",
       "    </tr>\n",
       "    <tr>\n",
       "      <th>5</th>\n",
       "      <td>FPIQ.SEB31</td>\n",
       "      <td>2020.03</td>\n",
       "      <td>Farm expenses price index, Sheep, beef, and gr...</td>\n",
       "      <td>4500</td>\n",
       "      <td>1465.0</td>\n",
       "    </tr>\n",
       "  </tbody>\n",
       "</table>\n",
       "</div>"
      ],
      "text/plain": [
       "  Series reference   Period  \\\n",
       "4       FPIQ.SEB31  2019.12   \n",
       "5       FPIQ.SEB31  2020.03   \n",
       "\n",
       "                                         Description  Revised  \\\n",
       "4  Farm expenses price index, Sheep, beef, and gr...     1507   \n",
       "5  Farm expenses price index, Sheep, beef, and gr...     4500   \n",
       "\n",
       "   Initially published  \n",
       "4               1510.0  \n",
       "5               1465.0  "
      ]
     },
     "execution_count": 6,
     "metadata": {},
     "output_type": "execute_result"
    }
   ],
   "source": [
    "df.loc[[4,5]]"
   ]
  },
  {
   "cell_type": "code",
   "execution_count": 7,
   "metadata": {},
   "outputs": [
    {
     "data": {
      "text/plain": [
       "2020.03"
      ]
     },
     "execution_count": 7,
     "metadata": {},
     "output_type": "execute_result"
    }
   ],
   "source": [
    "df.loc[5,'Period']"
   ]
  },
  {
   "cell_type": "code",
   "execution_count": 10,
   "metadata": {},
   "outputs": [
    {
     "data": {
      "text/plain": [
       "'Farm expenses price index, Sheep, beef, and grain farms, Subtotal including livestock'"
      ]
     },
     "execution_count": 10,
     "metadata": {},
     "output_type": "execute_result"
    }
   ],
   "source": [
    "df1.loc[6,'Description']"
   ]
  },
  {
   "cell_type": "code",
   "execution_count": 11,
   "metadata": {},
   "outputs": [
    {
     "data": {
      "text/plain": [
       "0    FPIQ.SEA31\n",
       "1    FPIQ.SEA31\n",
       "2    FPIQ.SEA31\n",
       "3    FPIQ.SEB31\n",
       "4    FPIQ.SEB31\n",
       "5           NaN\n",
       "Name: Series reference, dtype: object"
      ]
     },
     "execution_count": 11,
     "metadata": {},
     "output_type": "execute_result"
    }
   ],
   "source": [
    "df1.loc[0:5,'Series reference']"
   ]
  },
  {
   "cell_type": "code",
   "execution_count": 8,
   "metadata": {},
   "outputs": [
    {
     "data": {
      "text/plain": [
       "0    2019.09\n",
       "1    2019.12\n",
       "2    2020.03\n",
       "3    2019.09\n",
       "4    2019.12\n",
       "Name: Period, dtype: float64"
      ]
     },
     "execution_count": 8,
     "metadata": {},
     "output_type": "execute_result"
    }
   ],
   "source": [
    "df.loc[0:4,'Period']"
   ]
  },
  {
   "cell_type": "code",
   "execution_count": 9,
   "metadata": {},
   "outputs": [
    {
     "data": {
      "text/plain": [
       "0    1434\n",
       "1    1453\n",
       "2    1412\n",
       "3    1489\n",
       "4    1507\n",
       "5    4500\n",
       "6    1193\n",
       "7    1199\n",
       "8    1187\n",
       "Name: Revised, dtype: int64"
      ]
     },
     "execution_count": 9,
     "metadata": {},
     "output_type": "execute_result"
    }
   ],
   "source": [
    "df.loc[0:8,'Revised']"
   ]
  },
  {
   "cell_type": "code",
   "execution_count": 16,
   "metadata": {},
   "outputs": [
    {
     "data": {
      "text/html": [
       "<div>\n",
       "<style scoped>\n",
       "    .dataframe tbody tr th:only-of-type {\n",
       "        vertical-align: middle;\n",
       "    }\n",
       "\n",
       "    .dataframe tbody tr th {\n",
       "        vertical-align: top;\n",
       "    }\n",
       "\n",
       "    .dataframe thead th {\n",
       "        text-align: right;\n",
       "    }\n",
       "</style>\n",
       "<table border=\"1\" class=\"dataframe\">\n",
       "  <thead>\n",
       "    <tr style=\"text-align: right;\">\n",
       "      <th></th>\n",
       "      <th>Revised</th>\n",
       "    </tr>\n",
       "  </thead>\n",
       "  <tbody>\n",
       "    <tr>\n",
       "      <th>0</th>\n",
       "      <td>1434.0</td>\n",
       "    </tr>\n",
       "    <tr>\n",
       "      <th>1</th>\n",
       "      <td>1453.0</td>\n",
       "    </tr>\n",
       "    <tr>\n",
       "      <th>2</th>\n",
       "      <td>1412.0</td>\n",
       "    </tr>\n",
       "    <tr>\n",
       "      <th>3</th>\n",
       "      <td>1489.0</td>\n",
       "    </tr>\n",
       "    <tr>\n",
       "      <th>4</th>\n",
       "      <td>1507.0</td>\n",
       "    </tr>\n",
       "    <tr>\n",
       "      <th>5</th>\n",
       "      <td>NaN</td>\n",
       "    </tr>\n",
       "  </tbody>\n",
       "</table>\n",
       "</div>"
      ],
      "text/plain": [
       "   Revised\n",
       "0   1434.0\n",
       "1   1453.0\n",
       "2   1412.0\n",
       "3   1489.0\n",
       "4   1507.0\n",
       "5      NaN"
      ]
     },
     "execution_count": 16,
     "metadata": {},
     "output_type": "execute_result"
    }
   ],
   "source": [
    "df1.loc[df1['Initially published']>1250,['Revised']]"
   ]
  },
  {
   "cell_type": "code",
   "execution_count": 10,
   "metadata": {},
   "outputs": [
    {
     "data": {
      "text/html": [
       "<div>\n",
       "<style scoped>\n",
       "    .dataframe tbody tr th:only-of-type {\n",
       "        vertical-align: middle;\n",
       "    }\n",
       "\n",
       "    .dataframe tbody tr th {\n",
       "        vertical-align: top;\n",
       "    }\n",
       "\n",
       "    .dataframe thead th {\n",
       "        text-align: right;\n",
       "    }\n",
       "</style>\n",
       "<table border=\"1\" class=\"dataframe\">\n",
       "  <thead>\n",
       "    <tr style=\"text-align: right;\">\n",
       "      <th></th>\n",
       "      <th>Series reference</th>\n",
       "      <th>Period</th>\n",
       "      <th>Description</th>\n",
       "      <th>Revised</th>\n",
       "      <th>Initially published</th>\n",
       "    </tr>\n",
       "  </thead>\n",
       "  <tbody>\n",
       "    <tr>\n",
       "      <th>6</th>\n",
       "      <td>NaN</td>\n",
       "      <td>2019.09</td>\n",
       "      <td>Farm expenses price index, Sheep, beef, and gr...</td>\n",
       "      <td>1193</td>\n",
       "      <td>1194.0</td>\n",
       "    </tr>\n",
       "    <tr>\n",
       "      <th>7</th>\n",
       "      <td>FPIQ.SEB39</td>\n",
       "      <td>2019.12</td>\n",
       "      <td>Farm expenses price index, Sheep, beef, and gr...</td>\n",
       "      <td>1199</td>\n",
       "      <td>1200.0</td>\n",
       "    </tr>\n",
       "    <tr>\n",
       "      <th>8</th>\n",
       "      <td>FPIQ.SEB39</td>\n",
       "      <td>2020.03</td>\n",
       "      <td>Farm expenses price index, Sheep, beef, and gr...</td>\n",
       "      <td>1187</td>\n",
       "      <td>1188.0</td>\n",
       "    </tr>\n",
       "    <tr>\n",
       "      <th>9</th>\n",
       "      <td>FPIQ.SEB99</td>\n",
       "      <td>2019.12</td>\n",
       "      <td>Farm expenses price index, Sheep, beef, and gr...</td>\n",
       "      <td>1159</td>\n",
       "      <td>NaN</td>\n",
       "    </tr>\n",
       "  </tbody>\n",
       "</table>\n",
       "</div>"
      ],
      "text/plain": [
       "  Series reference   Period  \\\n",
       "6              NaN  2019.09   \n",
       "7       FPIQ.SEB39  2019.12   \n",
       "8       FPIQ.SEB39  2020.03   \n",
       "9       FPIQ.SEB99  2019.12   \n",
       "\n",
       "                                         Description  Revised  \\\n",
       "6  Farm expenses price index, Sheep, beef, and gr...     1193   \n",
       "7  Farm expenses price index, Sheep, beef, and gr...     1199   \n",
       "8  Farm expenses price index, Sheep, beef, and gr...     1187   \n",
       "9  Farm expenses price index, Sheep, beef, and gr...     1159   \n",
       "\n",
       "   Initially published  \n",
       "6               1194.0  \n",
       "7               1200.0  \n",
       "8               1188.0  \n",
       "9                  NaN  "
      ]
     },
     "execution_count": 10,
     "metadata": {},
     "output_type": "execute_result"
    }
   ],
   "source": [
    "df.loc[df['Revised']<1200]"
   ]
  },
  {
   "cell_type": "code",
   "execution_count": 11,
   "metadata": {},
   "outputs": [
    {
     "data": {
      "text/html": [
       "<div>\n",
       "<style scoped>\n",
       "    .dataframe tbody tr th:only-of-type {\n",
       "        vertical-align: middle;\n",
       "    }\n",
       "\n",
       "    .dataframe tbody tr th {\n",
       "        vertical-align: top;\n",
       "    }\n",
       "\n",
       "    .dataframe thead th {\n",
       "        text-align: right;\n",
       "    }\n",
       "</style>\n",
       "<table border=\"1\" class=\"dataframe\">\n",
       "  <thead>\n",
       "    <tr style=\"text-align: right;\">\n",
       "      <th></th>\n",
       "      <th>Initially published</th>\n",
       "    </tr>\n",
       "  </thead>\n",
       "  <tbody>\n",
       "    <tr>\n",
       "      <th>6</th>\n",
       "      <td>1194.0</td>\n",
       "    </tr>\n",
       "    <tr>\n",
       "      <th>7</th>\n",
       "      <td>1200.0</td>\n",
       "    </tr>\n",
       "    <tr>\n",
       "      <th>8</th>\n",
       "      <td>1188.0</td>\n",
       "    </tr>\n",
       "    <tr>\n",
       "      <th>9</th>\n",
       "      <td>NaN</td>\n",
       "    </tr>\n",
       "  </tbody>\n",
       "</table>\n",
       "</div>"
      ],
      "text/plain": [
       "   Initially published\n",
       "6               1194.0\n",
       "7               1200.0\n",
       "8               1188.0\n",
       "9                  NaN"
      ]
     },
     "execution_count": 11,
     "metadata": {},
     "output_type": "execute_result"
    }
   ],
   "source": [
    "df.loc[df['Revised']<1200,['Initially published']]"
   ]
  },
  {
   "cell_type": "code",
   "execution_count": 14,
   "metadata": {},
   "outputs": [
    {
     "data": {
      "text/html": [
       "<div>\n",
       "<style scoped>\n",
       "    .dataframe tbody tr th:only-of-type {\n",
       "        vertical-align: middle;\n",
       "    }\n",
       "\n",
       "    .dataframe tbody tr th {\n",
       "        vertical-align: top;\n",
       "    }\n",
       "\n",
       "    .dataframe thead th {\n",
       "        text-align: right;\n",
       "    }\n",
       "</style>\n",
       "<table border=\"1\" class=\"dataframe\">\n",
       "  <thead>\n",
       "    <tr style=\"text-align: right;\">\n",
       "      <th></th>\n",
       "      <th>Series reference</th>\n",
       "      <th>Period</th>\n",
       "      <th>Description</th>\n",
       "      <th>Revised</th>\n",
       "      <th>Initially published</th>\n",
       "    </tr>\n",
       "  </thead>\n",
       "  <tbody>\n",
       "    <tr>\n",
       "      <th>0</th>\n",
       "      <td>FPIQ.SEA31</td>\n",
       "      <td>2019.09</td>\n",
       "      <td>Farm expenses price index, Horticulture and fr...</td>\n",
       "      <td>1434</td>\n",
       "      <td>1453.0</td>\n",
       "    </tr>\n",
       "    <tr>\n",
       "      <th>1</th>\n",
       "      <td>FPIQ.SEA31</td>\n",
       "      <td>2019.12</td>\n",
       "      <td>Farm expenses price index, Horticulture and fr...</td>\n",
       "      <td>1453</td>\n",
       "      <td>1472.0</td>\n",
       "    </tr>\n",
       "    <tr>\n",
       "      <th>2</th>\n",
       "      <td>FPIQ.SEA31</td>\n",
       "      <td>2020.03</td>\n",
       "      <td>Farm expenses price index, Horticulture and fr...</td>\n",
       "      <td>1412</td>\n",
       "      <td>1431.0</td>\n",
       "    </tr>\n",
       "    <tr>\n",
       "      <th>3</th>\n",
       "      <td>FPIQ.SEB31</td>\n",
       "      <td>2019.09</td>\n",
       "      <td>Farm expenses price index, Sheep, beef, and gr...</td>\n",
       "      <td>1489</td>\n",
       "      <td>NaN</td>\n",
       "    </tr>\n",
       "    <tr>\n",
       "      <th>4</th>\n",
       "      <td>FPIQ.SEB31</td>\n",
       "      <td>2019.12</td>\n",
       "      <td>Farm expenses price index, Sheep, beef, and gr...</td>\n",
       "      <td>1507</td>\n",
       "      <td>1510.0</td>\n",
       "    </tr>\n",
       "    <tr>\n",
       "      <th>5</th>\n",
       "      <td>FPIQ.SEB31</td>\n",
       "      <td>2020.03</td>\n",
       "      <td>Farm expenses price index, Sheep, beef, and gr...</td>\n",
       "      <td>4500</td>\n",
       "      <td>1465.0</td>\n",
       "    </tr>\n",
       "    <tr>\n",
       "      <th>6</th>\n",
       "      <td>NaN</td>\n",
       "      <td>2019.09</td>\n",
       "      <td>Farm expenses price index, Sheep, beef, and gr...</td>\n",
       "      <td>1193</td>\n",
       "      <td>1194.0</td>\n",
       "    </tr>\n",
       "    <tr>\n",
       "      <th>7</th>\n",
       "      <td>FPIQ.SEB39</td>\n",
       "      <td>2019.12</td>\n",
       "      <td>Farm expenses price index, Sheep, beef, and gr...</td>\n",
       "      <td>1199</td>\n",
       "      <td>1200.0</td>\n",
       "    </tr>\n",
       "    <tr>\n",
       "      <th>8</th>\n",
       "      <td>FPIQ.SEB39</td>\n",
       "      <td>2020.03</td>\n",
       "      <td>Farm expenses price index, Sheep, beef, and gr...</td>\n",
       "      <td>1187</td>\n",
       "      <td>1188.0</td>\n",
       "    </tr>\n",
       "    <tr>\n",
       "      <th>9</th>\n",
       "      <td>FPIQ.SEB99</td>\n",
       "      <td>2019.12</td>\n",
       "      <td>Farm expenses price index, Sheep, beef, and gr...</td>\n",
       "      <td>1159</td>\n",
       "      <td>NaN</td>\n",
       "    </tr>\n",
       "  </tbody>\n",
       "</table>\n",
       "</div>"
      ],
      "text/plain": [
       "  Series reference   Period  \\\n",
       "0       FPIQ.SEA31  2019.09   \n",
       "1       FPIQ.SEA31  2019.12   \n",
       "2       FPIQ.SEA31  2020.03   \n",
       "3       FPIQ.SEB31  2019.09   \n",
       "4       FPIQ.SEB31  2019.12   \n",
       "5       FPIQ.SEB31  2020.03   \n",
       "6              NaN  2019.09   \n",
       "7       FPIQ.SEB39  2019.12   \n",
       "8       FPIQ.SEB39  2020.03   \n",
       "9       FPIQ.SEB99  2019.12   \n",
       "\n",
       "                                         Description  Revised  \\\n",
       "0  Farm expenses price index, Horticulture and fr...     1434   \n",
       "1  Farm expenses price index, Horticulture and fr...     1453   \n",
       "2  Farm expenses price index, Horticulture and fr...     1412   \n",
       "3  Farm expenses price index, Sheep, beef, and gr...     1489   \n",
       "4  Farm expenses price index, Sheep, beef, and gr...     1507   \n",
       "5  Farm expenses price index, Sheep, beef, and gr...     4500   \n",
       "6  Farm expenses price index, Sheep, beef, and gr...     1193   \n",
       "7  Farm expenses price index, Sheep, beef, and gr...     1199   \n",
       "8  Farm expenses price index, Sheep, beef, and gr...     1187   \n",
       "9  Farm expenses price index, Sheep, beef, and gr...     1159   \n",
       "\n",
       "   Initially published  \n",
       "0               1453.0  \n",
       "1               1472.0  \n",
       "2               1431.0  \n",
       "3                  NaN  \n",
       "4               1510.0  \n",
       "5               1465.0  \n",
       "6               1194.0  \n",
       "7               1200.0  \n",
       "8               1188.0  \n",
       "9                  NaN  "
      ]
     },
     "execution_count": 14,
     "metadata": {},
     "output_type": "execute_result"
    }
   ],
   "source": [
    "#iloc[]\n",
    "df"
   ]
  },
  {
   "cell_type": "code",
   "execution_count": 13,
   "metadata": {},
   "outputs": [
    {
     "data": {
      "text/plain": [
       "Series reference                                              FPIQ.SEA31\n",
       "Period                                                           2019.09\n",
       "Description            Farm expenses price index, Horticulture and fr...\n",
       "Revised                                                             1434\n",
       "Initially published                                                 1453\n",
       "Name: 0, dtype: object"
      ]
     },
     "execution_count": 13,
     "metadata": {},
     "output_type": "execute_result"
    }
   ],
   "source": [
    "df.iloc[0]"
   ]
  },
  {
   "cell_type": "code",
   "execution_count": 18,
   "metadata": {},
   "outputs": [
    {
     "data": {
      "text/plain": [
       "Series reference                                              FPIQ.SEA31\n",
       "Period                                                         10/2/2020\n",
       "Description            Farm expenses price index, Horticulture and fr...\n",
       "Revised                                                           1453.0\n",
       "Initially published                                               1472.0\n",
       "Name: 1, dtype: object"
      ]
     },
     "execution_count": 18,
     "metadata": {},
     "output_type": "execute_result"
    }
   ],
   "source": [
    "df1.iloc[1]"
   ]
  },
  {
   "cell_type": "code",
   "execution_count": 15,
   "metadata": {},
   "outputs": [
    {
     "data": {
      "text/html": [
       "<div>\n",
       "<style scoped>\n",
       "    .dataframe tbody tr th:only-of-type {\n",
       "        vertical-align: middle;\n",
       "    }\n",
       "\n",
       "    .dataframe tbody tr th {\n",
       "        vertical-align: top;\n",
       "    }\n",
       "\n",
       "    .dataframe thead th {\n",
       "        text-align: right;\n",
       "    }\n",
       "</style>\n",
       "<table border=\"1\" class=\"dataframe\">\n",
       "  <thead>\n",
       "    <tr style=\"text-align: right;\">\n",
       "      <th></th>\n",
       "      <th>Series reference</th>\n",
       "      <th>Period</th>\n",
       "      <th>Description</th>\n",
       "      <th>Revised</th>\n",
       "      <th>Initially published</th>\n",
       "    </tr>\n",
       "  </thead>\n",
       "  <tbody>\n",
       "    <tr>\n",
       "      <th>0</th>\n",
       "      <td>FPIQ.SEA31</td>\n",
       "      <td>2019.09</td>\n",
       "      <td>Farm expenses price index, Horticulture and fr...</td>\n",
       "      <td>1434</td>\n",
       "      <td>1453.0</td>\n",
       "    </tr>\n",
       "  </tbody>\n",
       "</table>\n",
       "</div>"
      ],
      "text/plain": [
       "  Series reference   Period  \\\n",
       "0       FPIQ.SEA31  2019.09   \n",
       "\n",
       "                                         Description  Revised  \\\n",
       "0  Farm expenses price index, Horticulture and fr...     1434   \n",
       "\n",
       "   Initially published  \n",
       "0               1453.0  "
      ]
     },
     "execution_count": 15,
     "metadata": {},
     "output_type": "execute_result"
    }
   ],
   "source": [
    "df.iloc[[0]]"
   ]
  },
  {
   "cell_type": "code",
   "execution_count": 20,
   "metadata": {},
   "outputs": [
    {
     "data": {
      "text/html": [
       "<div>\n",
       "<style scoped>\n",
       "    .dataframe tbody tr th:only-of-type {\n",
       "        vertical-align: middle;\n",
       "    }\n",
       "\n",
       "    .dataframe tbody tr th {\n",
       "        vertical-align: top;\n",
       "    }\n",
       "\n",
       "    .dataframe thead th {\n",
       "        text-align: right;\n",
       "    }\n",
       "</style>\n",
       "<table border=\"1\" class=\"dataframe\">\n",
       "  <thead>\n",
       "    <tr style=\"text-align: right;\">\n",
       "      <th></th>\n",
       "      <th>Series reference</th>\n",
       "      <th>Period</th>\n",
       "      <th>Description</th>\n",
       "      <th>Revised</th>\n",
       "      <th>Initially published</th>\n",
       "    </tr>\n",
       "  </thead>\n",
       "  <tbody>\n",
       "    <tr>\n",
       "      <th>0</th>\n",
       "      <td>FPIQ.SEA31</td>\n",
       "      <td>9/1/2019</td>\n",
       "      <td>Farm expenses price index, Horticulture and fr...</td>\n",
       "      <td>1434.0</td>\n",
       "      <td>1453.0</td>\n",
       "    </tr>\n",
       "    <tr>\n",
       "      <th>5</th>\n",
       "      <td>NaN</td>\n",
       "      <td>14/6/2020</td>\n",
       "      <td>Farm expenses price index, Sheep, beef, and gr...</td>\n",
       "      <td>NaN</td>\n",
       "      <td>1465.0</td>\n",
       "    </tr>\n",
       "  </tbody>\n",
       "</table>\n",
       "</div>"
      ],
      "text/plain": [
       "  Series reference     Period  \\\n",
       "0       FPIQ.SEA31   9/1/2019   \n",
       "5              NaN  14/6/2020   \n",
       "\n",
       "                                         Description  Revised  \\\n",
       "0  Farm expenses price index, Horticulture and fr...   1434.0   \n",
       "5  Farm expenses price index, Sheep, beef, and gr...      NaN   \n",
       "\n",
       "   Initially published  \n",
       "0               1453.0  \n",
       "5               1465.0  "
      ]
     },
     "execution_count": 20,
     "metadata": {},
     "output_type": "execute_result"
    }
   ],
   "source": [
    "df1.iloc[[0,5]]"
   ]
  },
  {
   "cell_type": "code",
   "execution_count": 21,
   "metadata": {},
   "outputs": [
    {
     "data": {
      "text/plain": [
       "0    1434.0\n",
       "1    1453.0\n",
       "2    1412.0\n",
       "3    1489.0\n",
       "4    1507.0\n",
       "5       NaN\n",
       "6    1193.0\n",
       "7    1199.0\n",
       "8    1187.0\n",
       "Name: Revised, dtype: float64"
      ]
     },
     "execution_count": 21,
     "metadata": {},
     "output_type": "execute_result"
    }
   ],
   "source": [
    "df1.iloc[0:,3]"
   ]
  },
  {
   "cell_type": "code",
   "execution_count": 19,
   "metadata": {},
   "outputs": [
    {
     "data": {
      "text/plain": [
       "0    2019.09\n",
       "1    2019.12\n",
       "2    2020.03\n",
       "3    2019.09\n",
       "4    2019.12\n",
       "5    2020.03\n",
       "6    2019.09\n",
       "7    2019.12\n",
       "8    2020.03\n",
       "9    2019.12\n",
       "Name: Period, dtype: float64"
      ]
     },
     "execution_count": 19,
     "metadata": {},
     "output_type": "execute_result"
    }
   ],
   "source": [
    "df.iloc[0:,1]"
   ]
  },
  {
   "cell_type": "code",
   "execution_count": 20,
   "metadata": {
    "scrolled": true
   },
   "outputs": [
    {
     "data": {
      "text/html": [
       "<div>\n",
       "<style scoped>\n",
       "    .dataframe tbody tr th:only-of-type {\n",
       "        vertical-align: middle;\n",
       "    }\n",
       "\n",
       "    .dataframe tbody tr th {\n",
       "        vertical-align: top;\n",
       "    }\n",
       "\n",
       "    .dataframe thead th {\n",
       "        text-align: right;\n",
       "    }\n",
       "</style>\n",
       "<table border=\"1\" class=\"dataframe\">\n",
       "  <thead>\n",
       "    <tr style=\"text-align: right;\">\n",
       "      <th></th>\n",
       "      <th>Series reference</th>\n",
       "      <th>Period</th>\n",
       "      <th>Description</th>\n",
       "      <th>Revised</th>\n",
       "      <th>Initially published</th>\n",
       "    </tr>\n",
       "  </thead>\n",
       "  <tbody>\n",
       "    <tr>\n",
       "      <th>0</th>\n",
       "      <td>FPIQ.SEA31</td>\n",
       "      <td>2019.09</td>\n",
       "      <td>Farm expenses price index, Horticulture and fr...</td>\n",
       "      <td>1434</td>\n",
       "      <td>1453.0</td>\n",
       "    </tr>\n",
       "    <tr>\n",
       "      <th>1</th>\n",
       "      <td>FPIQ.SEA31</td>\n",
       "      <td>2019.12</td>\n",
       "      <td>Farm expenses price index, Horticulture and fr...</td>\n",
       "      <td>1453</td>\n",
       "      <td>1472.0</td>\n",
       "    </tr>\n",
       "  </tbody>\n",
       "</table>\n",
       "</div>"
      ],
      "text/plain": [
       "  Series reference   Period  \\\n",
       "0       FPIQ.SEA31  2019.09   \n",
       "1       FPIQ.SEA31  2019.12   \n",
       "\n",
       "                                         Description  Revised  \\\n",
       "0  Farm expenses price index, Horticulture and fr...     1434   \n",
       "1  Farm expenses price index, Horticulture and fr...     1453   \n",
       "\n",
       "   Initially published  \n",
       "0               1453.0  \n",
       "1               1472.0  "
      ]
     },
     "execution_count": 20,
     "metadata": {},
     "output_type": "execute_result"
    }
   ],
   "source": [
    "df.iloc[[0,1]]"
   ]
  },
  {
   "cell_type": "code",
   "execution_count": 23,
   "metadata": {},
   "outputs": [
    {
     "data": {
      "text/html": [
       "<div>\n",
       "<style scoped>\n",
       "    .dataframe tbody tr th:only-of-type {\n",
       "        vertical-align: middle;\n",
       "    }\n",
       "\n",
       "    .dataframe tbody tr th {\n",
       "        vertical-align: top;\n",
       "    }\n",
       "\n",
       "    .dataframe thead th {\n",
       "        text-align: right;\n",
       "    }\n",
       "</style>\n",
       "<table border=\"1\" class=\"dataframe\">\n",
       "  <thead>\n",
       "    <tr style=\"text-align: right;\">\n",
       "      <th></th>\n",
       "      <th>Series reference</th>\n",
       "      <th>Period</th>\n",
       "      <th>Description</th>\n",
       "      <th>Revised</th>\n",
       "      <th>Initially published</th>\n",
       "    </tr>\n",
       "  </thead>\n",
       "  <tbody>\n",
       "    <tr>\n",
       "      <th>0</th>\n",
       "      <td>FPIQ.SEA31</td>\n",
       "      <td>9/1/2019</td>\n",
       "      <td>Farm expenses price index, Horticulture and fr...</td>\n",
       "      <td>1434.0</td>\n",
       "      <td>1453.0</td>\n",
       "    </tr>\n",
       "    <tr>\n",
       "      <th>1</th>\n",
       "      <td>FPIQ.SEA31</td>\n",
       "      <td>10/2/2020</td>\n",
       "      <td>Farm expenses price index, Horticulture and fr...</td>\n",
       "      <td>1453.0</td>\n",
       "      <td>1472.0</td>\n",
       "    </tr>\n",
       "    <tr>\n",
       "      <th>2</th>\n",
       "      <td>FPIQ.SEA31</td>\n",
       "      <td>11/3/2020</td>\n",
       "      <td>Farm expenses price index, Horticulture and fr...</td>\n",
       "      <td>1412.0</td>\n",
       "      <td>1431.0</td>\n",
       "    </tr>\n",
       "    <tr>\n",
       "      <th>3</th>\n",
       "      <td>FPIQ.SEB31</td>\n",
       "      <td>12/4/2020</td>\n",
       "      <td>Farm expenses price index, Sheep, beef, and gr...</td>\n",
       "      <td>1489.0</td>\n",
       "      <td>1492.0</td>\n",
       "    </tr>\n",
       "    <tr>\n",
       "      <th>4</th>\n",
       "      <td>FPIQ.SEB31</td>\n",
       "      <td>13/5/2020</td>\n",
       "      <td>NaN</td>\n",
       "      <td>1507.0</td>\n",
       "      <td>1510.0</td>\n",
       "    </tr>\n",
       "  </tbody>\n",
       "</table>\n",
       "</div>"
      ],
      "text/plain": [
       "  Series reference     Period  \\\n",
       "0       FPIQ.SEA31   9/1/2019   \n",
       "1       FPIQ.SEA31  10/2/2020   \n",
       "2       FPIQ.SEA31  11/3/2020   \n",
       "3       FPIQ.SEB31  12/4/2020   \n",
       "4       FPIQ.SEB31  13/5/2020   \n",
       "\n",
       "                                         Description  Revised  \\\n",
       "0  Farm expenses price index, Horticulture and fr...   1434.0   \n",
       "1  Farm expenses price index, Horticulture and fr...   1453.0   \n",
       "2  Farm expenses price index, Horticulture and fr...   1412.0   \n",
       "3  Farm expenses price index, Sheep, beef, and gr...   1489.0   \n",
       "4                                                NaN   1507.0   \n",
       "\n",
       "   Initially published  \n",
       "0               1453.0  \n",
       "1               1472.0  \n",
       "2               1431.0  \n",
       "3               1492.0  \n",
       "4               1510.0  "
      ]
     },
     "execution_count": 23,
     "metadata": {},
     "output_type": "execute_result"
    }
   ],
   "source": [
    "df1.loc[df1['Revised']>1200]"
   ]
  },
  {
   "cell_type": "code",
   "execution_count": null,
   "metadata": {},
   "outputs": [],
   "source": [
    "df.iloc[[t,1]]"
   ]
  }
 ],
 "metadata": {
  "kernelspec": {
   "display_name": "Python 3",
   "language": "python",
   "name": "python3"
  },
  "language_info": {
   "codemirror_mode": {
    "name": "ipython",
    "version": 3
   },
   "file_extension": ".py",
   "mimetype": "text/x-python",
   "name": "python",
   "nbconvert_exporter": "python",
   "pygments_lexer": "ipython3",
   "version": "3.8.8"
  }
 },
 "nbformat": 4,
 "nbformat_minor": 4
}
